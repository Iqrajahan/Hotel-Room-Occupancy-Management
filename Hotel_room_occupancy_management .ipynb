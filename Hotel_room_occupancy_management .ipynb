{
 "cells": [
  {
   "cell_type": "markdown",
   "id": "b41e87dd",
   "metadata": {},
   "source": [
    "# <center>Assignment 16B</center>"
   ]
  },
  {
   "cell_type": "code",
   "execution_count": 1,
   "id": "2bccc255",
   "metadata": {},
   "outputs": [],
   "source": [
    "# load libraries\n",
    "import pandas as pd\n",
    "from pathlib import Path "
   ]
  },
  {
   "cell_type": "code",
   "execution_count": 2,
   "id": "6b8deaf6",
   "metadata": {},
   "outputs": [],
   "source": [
    "# load student marks in file into dataframe studentMarksDF\n",
    "def loadHotelRoomOccupancy():\n",
    "    global Hotel_Room_Occupancy_DF\n",
    "    #both  \"hotel_room_occupancy.xlsx\" and \"Assignmnet 16b .ipynb\" are placed in same folder.\n",
    "    Hotel_Room_Occupancy_DF = pd.read_excel(\"hotel_room_occupancy.xlsx\")\n",
    "loadHotelRoomOccupancy()"
   ]
  },
  {
   "cell_type": "code",
   "execution_count": 3,
   "id": "ee3a10e2-876a-4f0f-a5f9-1806ea87621b",
   "metadata": {},
   "outputs": [],
   "source": [
    "def get_vacant_room_list():\n",
    "    global vacant_room_list \n",
    "    vacant_room_list = []\n",
    "    for i in range(len(Hotel_Room_Occupancy_DF)):\n",
    "        if Hotel_Room_Occupancy_DF.loc[i, 'Name'] == 'Not Occupied':\n",
    "            room_info = {\n",
    "                \"Room_No\": Hotel_Room_Occupancy_DF.loc[i, 'Room_No'],\n",
    "                \"Type_of_Room\": Hotel_Room_Occupancy_DF.loc[i, 'Type_of_Room']\n",
    "            }\n",
    "            vacant_room_list.append(room_info)\n",
    "    print(\"List of rooms that are vacant and available for allotment.:\\n\")\n",
    "    print(vacant_room_list)\n",
    "    return vacant_room_list"
   ]
  },
  {
   "cell_type": "code",
   "execution_count": 4,
   "id": "0e94c454-d92b-45ba-9468-d8e24e4c8175",
   "metadata": {},
   "outputs": [],
   "source": [
    "def allot_room(Hotel_Room_Occupancy_DF):\n",
    "    vacant_rooms = Hotel_Room_Occupancy_DF[Hotel_Room_Occupancy_DF['Name'] == 'Not Occupied']\n",
    "    if vacant_rooms.empty:\n",
    "        print(\"No vacant rooms available for allotment.\")\n",
    "        return\n",
    "    \n",
    "    print(\"Vacant rooms available for allotment:\")\n",
    "    print(vacant_rooms[['Room_No', 'Type_of_Room']])\n",
    "    \n",
    "    room_no = input(\"Enter room number to allot: \")\n",
    "    if room_no.isdigit() and int(room_no) in vacant_rooms['Room_No'].values:\n",
    "        customer_name = input(\"Enter customer name: \")\n",
    "        date_occupancy = input(\"Enter date of occupancy (YYYY-MM-DD): \")\n",
    "        days_occupancy = input(\"Enter number of days: \")\n",
    "        \n",
    "        Hotel_Room_Occupancy_DF.loc[Hotel_Room_Occupancy_DF['Room_No'] == int(room_no), ['Name', 'Date_Occupancy', 'Days_Occupancy']] = [customer_name, date_occupancy, int(days_occupancy)]\n",
    "        print(f\"Room {room_no} has been allotted to {customer_name}.\")\n",
    "        # Display room status after allotment\n",
    "        print(\"\\nRoom status after allotment:\")\n",
    "        print(Hotel_Room_Occupancy_DF[Hotel_Room_Occupancy_DF['Room_No'] == int(room_no)])\n",
    "    else:\n",
    "        print(\"Invalid room number or room not vacant.\")\n",
    "   "
   ]
  },
  {
   "cell_type": "code",
   "execution_count": 5,
   "id": "1a1aa84f-fbdb-4eba-bb80-bee4979b26c6",
   "metadata": {},
   "outputs": [],
   "source": [
    "def get_occupied_room_list():\n",
    "    occupied_room_list = []\n",
    "    for i in range(len(Hotel_Room_Occupancy_DF)):\n",
    "        if Hotel_Room_Occupancy_DF.loc[i, 'Name'] != 'Not Occupied':\n",
    "            room_info = {\n",
    "                \"Room_No\": Hotel_Room_Occupancy_DF.loc[i, 'Room_No'],\n",
    "                \"Type_of_Room\": Hotel_Room_Occupancy_DF.loc[i, 'Type_of_Room'],\n",
    "                \"Name\":Hotel_Room_Occupancy_DF.loc[i, 'Name']\n",
    "            }\n",
    "            occupied_room_list.append(room_info)\n",
    "    print(\"List of occupied rooms along with the customer name.:\\n\" )\n",
    "    print(occupied_room_list)\n",
    "    return occupied_room_list"
   ]
  },
  {
   "cell_type": "code",
   "execution_count": 6,
   "id": "bcd19533-fa67-4088-babb-9e6f424bfbca",
   "metadata": {},
   "outputs": [],
   "source": [
    "def update_days_occupancy(Hotel_Room_Occupancy_DF):\n",
    "    room_no = input(\"Enter room number to update days occupancy: \")\n",
    "    if room_no.isdigit() and int(room_no) in Hotel_Room_Occupancy_DF['Room_No'].values:\n",
    "        previous_info = Hotel_Room_Occupancy_DF[Hotel_Room_Occupancy_DF['Room_No'] == int(room_no)].iloc[0]\n",
    "        print(\"Previous Room Information:\")\n",
    "        print(previous_info)\n",
    "        \n",
    "        days_occupancy = input(\"Enter updated number of days: \")\n",
    "        Hotel_Room_Occupancy_DF.loc[Hotel_Room_Occupancy_DF['Room_No'] == int(room_no), 'Days_Occupancy'] = int(days_occupancy)\n",
    "        \n",
    "        updated_info = Hotel_Room_Occupancy_DF[Hotel_Room_Occupancy_DF['Room_No'] == int(room_no)].iloc[0]\n",
    "        print(\"\\nUpdated Room Information:\")\n",
    "        print(updated_info)\n",
    "        \n",
    "        print(f\"\\nDays occupancy for room {room_no} has been updated.\")\n",
    "    else:\n",
    "        print(\"Invalid room number.\")"
   ]
  },
  {
   "cell_type": "code",
   "execution_count": 7,
   "id": "16fef494-806b-4c15-9d0a-376f939814f9",
   "metadata": {},
   "outputs": [],
   "source": [
    "def checkout_customer(Hotel_Room_Occupancy_DF):\n",
    "    occupied_rooms = Hotel_Room_Occupancy_DF[Hotel_Room_Occupancy_DF['Name'] != 'Not Occupied']\n",
    "    if occupied_rooms.empty:\n",
    "        print(\"No rooms are currently occupied.\")\n",
    "        return\n",
    "    \n",
    "    print(\"Occupied rooms:\")\n",
    "    print(occupied_rooms[['Room_No', 'Type_of_Room', 'Name']])\n",
    "    \n",
    "    room_no = input(\"Enter room number to checkout: \")\n",
    "    if room_no.isdigit() and int(room_no) in occupied_rooms['Room_No'].values:\n",
    "        Hotel_Room_Occupancy_DF.loc[Hotel_Room_Occupancy_DF['Room_No'] == int(room_no), ['Name', 'Date_Occupancy', 'Days_Occupancy']] = ['Not Occupied', '01-Jan-2022', 0]\n",
    "        print(f\"Customer checked out from room {room_no}.\")\n",
    "        # Display room status after checkout\n",
    "        print(\"\\nRoom status after checkout:\")\n",
    "        print(Hotel_Room_Occupancy_DF[Hotel_Room_Occupancy_DF['Room_No'] == int(room_no)])\n",
    "    else:\n",
    "        print(\"Invalid room number or room not occupied.\")"
   ]
  },
  {
   "cell_type": "code",
   "execution_count": 8,
   "id": "7c2c5296-01e9-4764-a534-de0e3ceb9c03",
   "metadata": {},
   "outputs": [
    {
     "name": "stdout",
     "output_type": "stream",
     "text": [
      "Data has been successfully written to the Excel file.\n"
     ]
    }
   ],
   "source": [
    "def write_to_excel(Hotel_Room_Occupancy_DF, file_path):\n",
    "    try:\n",
    "        Hotel_Room_Occupancy_DF.to_excel(file_path, index=False)\n",
    "        print(\"Data has been successfully written to the Excel file.\")\n",
    "    except Exception as e:\n",
    "        print(f\"Error occurred while writing to Excel file: {e}\")\n",
    "\n",
    "# Example usage:\n",
    "# Specify the file path where you want to save the Excel file\n",
    "file_path = \"hotel_room_occupancy_updated.xlsx\"\n",
    "\n",
    "# Call the function to write the data to the Excel file\n",
    "write_to_excel(Hotel_Room_Occupancy_DF, file_path)"
   ]
  },
  {
   "cell_type": "code",
   "execution_count": 9,
   "id": "02747e90",
   "metadata": {},
   "outputs": [],
   "source": [
    "# display menu and get choice\n",
    "def menu():\n",
    "    print(\"\\nMENU\")\n",
    "    print(\"A. Check for available rooms\")\n",
    "    print(\"B. Allot a room\")\n",
    "    print(\"C. Update occupancy for existing customer\")\n",
    "    print(\"D. Display occupied rooms\")\n",
    "    print(\"E. Checkout a customer\")\n",
    "    print(\"F. Write updates to file\")\n",
    "    print(\"Q. Quit application\")\n",
    "    choice = input(\"SELECT CHOICE: \")\n",
    "    print(\"\\n\")\n",
    "    return choice"
   ]
  },
  {
   "cell_type": "code",
   "execution_count": 10,
   "id": "fc8ff987-d458-4053-a6e9-1bab439d10df",
   "metadata": {},
   "outputs": [
    {
     "name": "stdout",
     "output_type": "stream",
     "text": [
      "\n",
      "MENU\n",
      "A. Check for available rooms\n",
      "B. Allot a room\n",
      "C. Update occupancy for existing customer\n",
      "D. Display occupied rooms\n",
      "E. Checkout a customer\n",
      "F. Write updates to file\n",
      "Q. Quit application\n"
     ]
    },
    {
     "name": "stdin",
     "output_type": "stream",
     "text": [
      "SELECT CHOICE:  a\n"
     ]
    },
    {
     "name": "stdout",
     "output_type": "stream",
     "text": [
      "\n",
      "\n",
      "List of rooms that are vacant and available for allotment.:\n",
      "\n",
      "[{'Room_No': 203, 'Type_of_Room': 'Single'}, {'Room_No': 207, 'Type_of_Room': 'Double'}, {'Room_No': 208, 'Type_of_Room': 'Double'}, {'Room_No': 210, 'Type_of_Room': 'Double Deluxe'}, {'Room_No': 302, 'Type_of_Room': 'Single'}, {'Room_No': 303, 'Type_of_Room': 'Single'}, {'Room_No': 309, 'Type_of_Room': 'Double Deluxe'}, {'Room_No': 310, 'Type_of_Room': 'Double Deluxe'}, {'Room_No': 404, 'Type_of_Room': 'Single'}, {'Room_No': 405, 'Type_of_Room': 'Double'}, {'Room_No': 410, 'Type_of_Room': 'Double Deluxe'}]\n",
      "\n",
      "MENU\n",
      "A. Check for available rooms\n",
      "B. Allot a room\n",
      "C. Update occupancy for existing customer\n",
      "D. Display occupied rooms\n",
      "E. Checkout a customer\n",
      "F. Write updates to file\n",
      "Q. Quit application\n"
     ]
    },
    {
     "name": "stdin",
     "output_type": "stream",
     "text": [
      "SELECT CHOICE:  d\n"
     ]
    },
    {
     "name": "stdout",
     "output_type": "stream",
     "text": [
      "\n",
      "\n",
      "List of occupied rooms along with the customer name.:\n",
      "\n",
      "[{'Room_No': 201, 'Type_of_Room': 'Single', 'Name': 'Alice Lim'}, {'Room_No': 202, 'Type_of_Room': 'Single', 'Name': 'Beth Low'}, {'Room_No': 204, 'Type_of_Room': 'Single', 'Name': 'Don Poh'}, {'Room_No': 205, 'Type_of_Room': 'Double', 'Name': 'Evans King'}, {'Room_No': 206, 'Type_of_Room': 'Double', 'Name': 'French Koh'}, {'Room_No': 209, 'Type_of_Room': 'Double Deluxe', 'Name': 'Indie Li'}, {'Room_No': 301, 'Type_of_Room': 'Single', 'Name': 'King Hock'}, {'Room_No': 304, 'Type_of_Room': 'Single', 'Name': 'Nin Non'}, {'Room_No': 305, 'Type_of_Room': 'Double', 'Name': 'Olly Loh'}, {'Room_No': 306, 'Type_of_Room': 'Double', 'Name': 'Peon Sim'}, {'Room_No': 307, 'Type_of_Room': 'Double', 'Name': 'Qu Lin'}, {'Room_No': 308, 'Type_of_Room': 'Double', 'Name': 'Ron Tan'}, {'Room_No': 401, 'Type_of_Room': 'Single', 'Name': 'Ur Ler'}, {'Room_No': 402, 'Type_of_Room': 'Single', 'Name': 'Vince Cer'}, {'Room_No': 403, 'Type_of_Room': 'Single', 'Name': 'Win Ning'}, {'Room_No': 406, 'Type_of_Room': 'Double', 'Name': 'Zoe Lim'}, {'Room_No': 407, 'Type_of_Room': 'Double', 'Name': 'Apple Man'}, {'Room_No': 408, 'Type_of_Room': 'Double', 'Name': 'Bin Ni'}, {'Room_No': 409, 'Type_of_Room': 'Double Deluxe', 'Name': 'Cathy Ho'}]\n",
      "\n",
      "MENU\n",
      "A. Check for available rooms\n",
      "B. Allot a room\n",
      "C. Update occupancy for existing customer\n",
      "D. Display occupied rooms\n",
      "E. Checkout a customer\n",
      "F. Write updates to file\n",
      "Q. Quit application\n"
     ]
    },
    {
     "name": "stdin",
     "output_type": "stream",
     "text": [
      "SELECT CHOICE:  B\n"
     ]
    },
    {
     "name": "stdout",
     "output_type": "stream",
     "text": [
      "\n",
      "\n",
      "Vacant rooms available for allotment:\n",
      "    Room_No   Type_of_Room\n",
      "2       203         Single\n",
      "6       207         Double\n",
      "7       208         Double\n",
      "9       210  Double Deluxe\n",
      "11      302         Single\n",
      "12      303         Single\n",
      "18      309  Double Deluxe\n",
      "19      310  Double Deluxe\n",
      "23      404         Single\n",
      "24      405         Double\n",
      "29      410  Double Deluxe\n"
     ]
    },
    {
     "name": "stdin",
     "output_type": "stream",
     "text": [
      "Enter room number to allot:  203\n",
      "Enter customer name:  iqra\n",
      "Enter date of occupancy (YYYY-MM-DD):  22-07-2024\n",
      "Enter number of days:  3\n"
     ]
    },
    {
     "name": "stdout",
     "output_type": "stream",
     "text": [
      "Room 203 has been allotted to iqra.\n",
      "\n",
      "Room status after allotment:\n",
      "   Room_No  Name Date_Occupancy  Days_Occupancy Type_of_Room  Rate_per_Day\n",
      "2      203  iqra     2024-07-22               3       Single           300\n",
      "\n",
      "MENU\n",
      "A. Check for available rooms\n",
      "B. Allot a room\n",
      "C. Update occupancy for existing customer\n",
      "D. Display occupied rooms\n",
      "E. Checkout a customer\n",
      "F. Write updates to file\n",
      "Q. Quit application\n"
     ]
    },
    {
     "name": "stdin",
     "output_type": "stream",
     "text": [
      "SELECT CHOICE:  d\n"
     ]
    },
    {
     "name": "stdout",
     "output_type": "stream",
     "text": [
      "\n",
      "\n",
      "List of occupied rooms along with the customer name.:\n",
      "\n",
      "[{'Room_No': 201, 'Type_of_Room': 'Single', 'Name': 'Alice Lim'}, {'Room_No': 202, 'Type_of_Room': 'Single', 'Name': 'Beth Low'}, {'Room_No': 203, 'Type_of_Room': 'Single', 'Name': 'iqra'}, {'Room_No': 204, 'Type_of_Room': 'Single', 'Name': 'Don Poh'}, {'Room_No': 205, 'Type_of_Room': 'Double', 'Name': 'Evans King'}, {'Room_No': 206, 'Type_of_Room': 'Double', 'Name': 'French Koh'}, {'Room_No': 209, 'Type_of_Room': 'Double Deluxe', 'Name': 'Indie Li'}, {'Room_No': 301, 'Type_of_Room': 'Single', 'Name': 'King Hock'}, {'Room_No': 304, 'Type_of_Room': 'Single', 'Name': 'Nin Non'}, {'Room_No': 305, 'Type_of_Room': 'Double', 'Name': 'Olly Loh'}, {'Room_No': 306, 'Type_of_Room': 'Double', 'Name': 'Peon Sim'}, {'Room_No': 307, 'Type_of_Room': 'Double', 'Name': 'Qu Lin'}, {'Room_No': 308, 'Type_of_Room': 'Double', 'Name': 'Ron Tan'}, {'Room_No': 401, 'Type_of_Room': 'Single', 'Name': 'Ur Ler'}, {'Room_No': 402, 'Type_of_Room': 'Single', 'Name': 'Vince Cer'}, {'Room_No': 403, 'Type_of_Room': 'Single', 'Name': 'Win Ning'}, {'Room_No': 406, 'Type_of_Room': 'Double', 'Name': 'Zoe Lim'}, {'Room_No': 407, 'Type_of_Room': 'Double', 'Name': 'Apple Man'}, {'Room_No': 408, 'Type_of_Room': 'Double', 'Name': 'Bin Ni'}, {'Room_No': 409, 'Type_of_Room': 'Double Deluxe', 'Name': 'Cathy Ho'}]\n",
      "\n",
      "MENU\n",
      "A. Check for available rooms\n",
      "B. Allot a room\n",
      "C. Update occupancy for existing customer\n",
      "D. Display occupied rooms\n",
      "E. Checkout a customer\n",
      "F. Write updates to file\n",
      "Q. Quit application\n"
     ]
    },
    {
     "name": "stdin",
     "output_type": "stream",
     "text": [
      "SELECT CHOICE:  q\n"
     ]
    },
    {
     "name": "stdout",
     "output_type": "stream",
     "text": [
      "\n",
      "\n"
     ]
    }
   ],
   "source": [
    "# main\n",
    "# load dataframe\n",
    "loadHotelRoomOccupancy()\n",
    "\n",
    "# despatch user's choice\n",
    "selected = \"X\"\n",
    "while selected != 'Q' and selected !='q':\n",
    "    if selected == 'A' or selected =='a':\n",
    "        get_vacant_room_list()\n",
    "    elif selected == 'B' or selected =='b':\n",
    "        allot_room(Hotel_Room_Occupancy_DF)\n",
    "    elif selected == 'C' or selected =='c':\n",
    "        update_days_occupancy(Hotel_Room_Occupancy_DF)\n",
    "    elif selected == 'D' or selected =='d':\n",
    "        get_occupied_room_list()\n",
    "    elif selected == 'E' or selected =='e':\n",
    "        checkout_customer(Hotel_Room_Occupancy_DF)\n",
    "    elif selected == 'F' or selected =='f':\n",
    "        write_to_excel(Hotel_Room_Occupancy_DF, file_path)\n",
    "    else: pass\n",
    "\n",
    "    selected = menu()"
   ]
  }
 ],
 "metadata": {
  "kernelspec": {
   "display_name": "Python 3 (ipykernel)",
   "language": "python",
   "name": "python3"
  },
  "language_info": {
   "codemirror_mode": {
    "name": "ipython",
    "version": 3
   },
   "file_extension": ".py",
   "mimetype": "text/x-python",
   "name": "python",
   "nbconvert_exporter": "python",
   "pygments_lexer": "ipython3",
   "version": "3.11.7"
  }
 },
 "nbformat": 4,
 "nbformat_minor": 5
}
